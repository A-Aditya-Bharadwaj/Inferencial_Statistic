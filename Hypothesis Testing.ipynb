{
 "cells": [
  {
   "cell_type": "markdown",
   "id": "cb072c78",
   "metadata": {},
   "source": [
    "### Z-Test"
   ]
  },
  {
   "cell_type": "code",
   "execution_count": 16,
   "id": "aec8bdd7",
   "metadata": {},
   "outputs": [
    {
     "name": "stdout",
     "output_type": "stream",
     "text": [
      "mean = 109.92 standard deviation = 2.24\n"
     ]
    }
   ],
   "source": [
    "import math\n",
    "import numpy as np\n",
    "from numpy.random import randn\n",
    "from statsmodels.stats.weightstats import ztest\n",
    "\n",
    "mean_iq = 110\n",
    "sd_iq = 15/math.sqrt(50)\n",
    "alpha = 0.05\n",
    "mu0 = 100\n",
    "data = sd_iq*randn(50)+mean_iq\n",
    "\n",
    "print(\"mean = %.2f standard deviation = %.2f\" % (np.mean(data), np.std(data)))"
   ]
  },
  {
   "cell_type": "code",
   "execution_count": 17,
   "id": "5d8afd8f",
   "metadata": {},
   "outputs": [
    {
     "name": "stdout",
     "output_type": "stream",
     "text": [
      "Reject Null Hypothesis\n"
     ]
    }
   ],
   "source": [
    "ztest_score, pvalue = ztest(data,value = mu0, alternative= \"larger\")\n",
    "if(pvalue < alpha):\n",
    "    print(\"Reject Null Hypothesis\")\n",
    "else:\n",
    "    print(\"Fail to Reject Null Hypothesis\")"
   ]
  },
  {
   "cell_type": "markdown",
   "id": "6916391d",
   "metadata": {},
   "source": [
    "### One sample t-test"
   ]
  },
  {
   "cell_type": "code",
   "execution_count": null,
   "id": "f9a392ff",
   "metadata": {},
   "outputs": [],
   "source": [
    "import numpy as np\n",
    "x = [1.83,1.83,1.73,1.82, 1.83, 1.73, 1.99, 1.85, 1.68, 1.87]\n",
    "\n",
    "x_bar = np.mean(x) # sample mean\n",
    "mu0 = 1.75 # Hypothesized value\n",
    "s = np.std(x, ddof=1) #sample standard deviation\n",
    "n = len(x) # sample size\n",
    "\n",
    "tcal = (x_bar - mu0)/(s/np.sqrt(n))\n",
    "print(tcal)"
   ]
  },
  {
   "cell_type": "code",
   "execution_count": null,
   "id": "02c21bd3",
   "metadata": {},
   "outputs": [],
   "source": [
    "import scipy.stats as stats\n",
    "import matplotlib.pyplot as plt\n",
    "\n",
    "tvalues = np.linspace(-10,10,100)\n",
    "plt.plot(tvalues, stats.t.pdf(tvalues, n-1), 'b-', label = \"T(n-1)\")\n",
    "upper_tval_tvalues = tvalues[tvalues > tcal]\n",
    "plt.fill_between(upper_tval_tvalues, 0, stats.t.pdf(upper_tval_tvalues,n-1),alpha=0.8, label=\"p-value\")\n",
    "plt.legend()"
   ]
  },
  {
   "cell_type": "markdown",
   "id": "81be4c0a",
   "metadata": {},
   "source": [
    "### Testing pairwise associations"
   ]
  },
  {
   "cell_type": "markdown",
   "id": "3b9c3d01",
   "metadata": {},
   "source": [
    "##### Pearson correlation test: test association between two quantitative variables"
   ]
  },
  {
   "cell_type": "code",
   "execution_count": null,
   "id": "5c0b2201",
   "metadata": {},
   "outputs": [],
   "source": [
    "import numpy as np\n",
    "import scipy.stats as stats\n",
    "n = 50\n",
    "x = np.random.normal(size=n)\n",
    "y = 2+ x + np.random.normal(size=n)\n",
    "\n",
    "# Compute with scipy\n",
    "cor, pval = stats.pearsonr(x,y)"
   ]
  },
  {
   "cell_type": "markdown",
   "id": "1763bbdd",
   "metadata": {},
   "source": [
    "##### Two sample (Student) 𝑡-test: compare two means"
   ]
  },
  {
   "cell_type": "code",
   "execution_count": null,
   "id": "aa736c3f",
   "metadata": {},
   "outputs": [],
   "source": [
    "import scipy.stats as stats\n",
    "\n",
    "height = np.array([ 1.83, 1.83, 1.73, 1.82, 1.83, 1.73, 1.99, 1.85, 1.68, 1.87,\n",
    "1.66, 1.71, 1.73, 1.64, 1.70, 1.60, 1.79, 1.73, 1.62, 1.77])\n",
    "grp = np.array([\"M\"] * 10 + [\"F\"] * 10)\n",
    "\n",
    "# Compute with scipy\n",
    "print(stats.ttest_ind(height[grp == \"M\"], height[grp == \"F\"], equal_var = True))"
   ]
  },
  {
   "cell_type": "markdown",
   "id": "e4319149",
   "metadata": {},
   "source": [
    "##### Chi-square, 𝜒2 (categorial ~ categorial)"
   ]
  },
  {
   "cell_type": "code",
   "execution_count": null,
   "id": "cc124cea",
   "metadata": {},
   "outputs": [],
   "source": [
    "import numpy as np\n",
    "import pandas as pd\n",
    "import scipy.stats as stats\n",
    "\n",
    "# 15 samples: 10 first with canalar tumor,last without\n",
    "canalar_tumor = np.array([1] * 10 + [0] * 5)\n",
    "# 8 first with metastasis, 6 without, the last with.\n",
    "meta = np.array([1] * 8 + [0] * 6 + [1])\n",
    "\n",
    "crosstab = pd.crosstab(canalar_tumor, meta, rownames = [\"cabalar_tumor\"], colnames = [\"meta\"])\n",
    "print(\"Observed table:\")\n",
    "print(\"---------------\")\n",
    "print(crosstab)\n",
    "\n",
    "chi2, pval, dof, expected = stats.chi2_contingency(crosstab)\n",
    "print(\"Statisties:\")\n",
    "print(\"-----------\")\n",
    "print(\"Chi2 = %f, pval = %f\" % (chi2, pval))\n",
    "print(\"Expected talbe:\")\n",
    "print(\"---------------\")\n",
    "print(expected)"
   ]
  },
  {
   "cell_type": "code",
   "execution_count": null,
   "id": "dbd287f0",
   "metadata": {},
   "outputs": [],
   "source": [
    "# Compute expected cross-table based on proportion\n",
    "meta_marg = crosstab.sum(axis=0)\n",
    "meta_freq = meta_marg / meta_marg.sum()\n",
    "\n",
    "canalar_tumor_marg = crosstab.sum(axis=1)\n",
    "canalar_tumor_freq = canalar_tumor_marg/canalar_tumor_marg.sum()\n",
    "\n",
    "print(\"Canalar tumor frequency? Yes: %.2f\" % canalar_tumor_freq[0], \"No: %.2f\" % canalar_tumor_freq[1])\n",
    "print(\"Metastasis frequency? Yes: %.2f\" % meta_freq[0], \"No: %.2f\" % meta_freq[1])\n",
    "\n",
    "print(\"Expected frequencies:\")\n",
    "print(np.outer(canalar_tumor_freq, meta_freq))\n",
    "\n",
    "print(\"Expected cross-table (frequencies * N): \")\n",
    "print(np.outer(canalar_tumor_freq, meta_freq) * len(canalar_tumor))"
   ]
  },
  {
   "cell_type": "code",
   "execution_count": null,
   "id": "a443d7a8",
   "metadata": {},
   "outputs": [],
   "source": []
  }
 ],
 "metadata": {
  "kernelspec": {
   "display_name": "Python 3 (ipykernel)",
   "language": "python",
   "name": "python3"
  },
  "language_info": {
   "codemirror_mode": {
    "name": "ipython",
    "version": 3
   },
   "file_extension": ".py",
   "mimetype": "text/x-python",
   "name": "python",
   "nbconvert_exporter": "python",
   "pygments_lexer": "ipython3",
   "version": "3.9.13"
  }
 },
 "nbformat": 4,
 "nbformat_minor": 5
}
